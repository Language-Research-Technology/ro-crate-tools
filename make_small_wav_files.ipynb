{
 "cells": [
  {
   "cell_type": "markdown",
   "id": "a9c37568",
   "metadata": {},
   "source": [
    "## make small wav files\n",
    "\n",
    "creates small versions of wav files which are easier to handle when setting up the collection\n",
    "\n",
    "* keeps the file name\n",
    "* reduces file size\n",
    "\n",
    "\n",
    "!! Never have the input and output folder be the same or all original files will be overwritten !!"
   ]
  },
  {
   "cell_type": "code",
   "execution_count": null,
   "id": "2027db58",
   "metadata": {},
   "outputs": [],
   "source": [
    "import os\n",
    "from pydub import AudioSegment\n",
    "\n",
    "\n",
    "# folder path\n",
    "# Should never be the same!\n",
    "input_folder = 'path/to/wav'\n",
    "output_folder = './output'\n",
    "\n",
    "def add_silence_to_wav(input_folder, output_folder):\n",
    "    \n",
    "    # Create the output folder if it doesn't exist\n",
    "    if not os.path.exists(output_folder):\n",
    "        os.makedirs(output_folder)\n",
    "\n",
    "    # Generate one second of silence\n",
    "    silence = AudioSegment.silent(duration=1000) # or be explicit\n",
    "\n",
    "    # Process each WAV file in the input folder\n",
    "    for filename in os.listdir(input_folder):\n",
    "        \n",
    "        if filename.endswith(\".wav\"):\n",
    "            \n",
    "            input_file_path = os.path.join(input_folder, filename)\n",
    "            output_file_path = os.path.join(output_folder, filename)\n",
    "            \n",
    "            # Create a new audio segment with one second of silence\n",
    "            silent_audio = silence\n",
    "\n",
    "            # Export the new file to the output folder\n",
    "            silent_audio.export(output_file_path, format=\"wav\")\n",
    "            \n",
    "            print(f\"Created {output_file_path}\")\n",
    "\n",
    "\n",
    "\n",
    "add_silence_to_wav(input_folder, output_folder)"
   ]
  },
  {
   "cell_type": "code",
   "execution_count": null,
   "id": "dfec839d",
   "metadata": {},
   "outputs": [],
   "source": []
  }
 ],
 "metadata": {
  "kernelspec": {
   "display_name": "Python 3 (ipykernel)",
   "language": "python",
   "name": "python3"
  },
  "language_info": {
   "codemirror_mode": {
    "name": "ipython",
    "version": 3
   },
   "file_extension": ".py",
   "mimetype": "text/x-python",
   "name": "python",
   "nbconvert_exporter": "python",
   "pygments_lexer": "ipython3",
   "version": "3.10.9"
  }
 },
 "nbformat": 4,
 "nbformat_minor": 5
}
